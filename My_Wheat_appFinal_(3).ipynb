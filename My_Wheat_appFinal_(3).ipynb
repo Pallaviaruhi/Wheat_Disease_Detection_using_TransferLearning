{
  "cells": [
    {
      "cell_type": "markdown",
      "id": "f2a2c1c4",
      "metadata": {
        "id": "f2a2c1c4"
      },
      "source": [
        "# Wheat Disease Detection\n",
        "\n",
        "### 1.1 Introduction\n",
        "\n",
        "In this ipython notebook, we would be using various neural network models such as VGG19, Xception and InceptionV3 networks to train our wheat dataset. Implementing these networks using pre-trained weights for \"imagenet\" is very handy, especially for our computer vision problem of detecting diseases in wheat plants.\n",
        "\n",
        "In the first few cells, let us import and load the libraries that are important for predicting the changes of a wheat plant to suffer from a disease. Later, preprocessing of the image along with making them compatible with Keras would be done to ensure smooth pipeline. Finally, the networks mentioned above would be used for predicting whether the wheat in an image is healthy or diseased.\n",
        "\n",
        "### 1.2 Metrics\n",
        "\n",
        "1. Categorical Cross Entropy\n",
        "2. Accuracy\n",
        "\n",
        "### 1.3 Source\n",
        "\n",
        "The data was downloaded from https://drive.google.com/drive/folders/1OHKtwD1UrdmhqxrpQEeF_X_pqKotxRGD.\n",
        "\n",
        "It contains 4 folders with the name of the folder being the class. In each folder, there are quite a large number of wheat images and their condition. The following are the 4 classes which we would consider.\n",
        "\n",
        "1. Leaf Rust\n",
        "2. Crown and Root Rot\n",
        "3. Healthy Wheat\n",
        "4. Wheat Loose Smut\n",
        "\n",
        "The total number of images that we have taken into consideration are 4500 respectively. We would take about 20 percent of the points for testing using stratified sampling which you could see later in the notebook.\n",
        "\n",
        "### Table of Contents\n",
        "\n",
        "&emsp; 1.1 Introduction\n",
        "\n",
        "&emsp; 1.2 Metrics\n",
        "\n",
        "&emsp; 1.3 Source\n",
        "\n",
        "\n"
      ]
    },
    {
      "cell_type": "markdown",
      "id": "bc9f125b",
      "metadata": {
        "id": "bc9f125b"
      },
      "source": [
        "### Importing Libraries\n",
        "\n",
        "Below are some of the libraries that we are going to use for our deep learning application. These libraries make the task of training convolutional networks easy and straight-forward."
      ]
    },
    {
      "cell_type": "code",
      "source": [
        "from google.colab import drive\n",
        "drive.mount('/content/drive')\n"
      ],
      "metadata": {
        "colab": {
          "base_uri": "https://localhost:8080/"
        },
        "id": "EqQyBEtTWSMn",
        "outputId": "f6e76464-819e-4213-8cd0-ca8cbf28d8ef"
      },
      "id": "EqQyBEtTWSMn",
      "execution_count": null,
      "outputs": [
        {
          "output_type": "stream",
          "name": "stdout",
          "text": [
            "Mounted at /content/drive\n"
          ]
        }
      ]
    },
    {
      "cell_type": "code",
      "source": [
        "import zipfile\n",
        "import os\n",
        "import glob\n",
        "\n",
        "# Path to your Google Drive folder containing zip files\n",
        "zip_folder = '/content/drive/MyDrive/Images'\n",
        "extract_base = '/content/dataset'\n",
        "\n",
        "# Extract all zip files\n",
        "zip_files = glob.glob(os.path.join(zip_folder, '*.zip'))\n",
        "\n",
        "for zip_file in zip_files:\n",
        "    zip_name = os.path.splitext(os.path.basename(zip_file))[0]\n",
        "    extract_path = os.path.join(extract_base, zip_name)\n",
        "    os.makedirs(extract_path, exist_ok=True)\n",
        "\n",
        "    with zipfile.ZipFile(zip_file, 'r') as zip_ref:\n",
        "        zip_ref.extractall(extract_path)\n",
        "\n",
        "print(\"✅ All zip files extracted.\")\n"
      ],
      "metadata": {
        "colab": {
          "base_uri": "https://localhost:8080/"
        },
        "id": "vlpypc1OWcSZ",
        "outputId": "16151673-7358-47e0-d6d8-31b0e69703e2"
      },
      "id": "vlpypc1OWcSZ",
      "execution_count": null,
      "outputs": [
        {
          "output_type": "stream",
          "name": "stdout",
          "text": [
            "✅ All zip files extracted.\n"
          ]
        }
      ]
    },
    {
      "cell_type": "code",
      "execution_count": null,
      "id": "5aebd99b",
      "metadata": {
        "id": "5aebd99b"
      },
      "outputs": [],
      "source": [
        "import numpy as np\n",
        "import pandas as pd\n",
        "import matplotlib.pyplot as plt\n",
        "import warnings\n",
        "warnings.filterwarnings(\"ignore\")\n",
        "import tensorflow as tf\n",
        "from sklearn.model_selection import train_test_split\n",
        "from tensorflow.keras.optimizers import Adam\n",
        "from tensorflow.keras.applications import VGG19\n",
        "import cv2\n",
        "import os\n",
        "import pickle\n",
        "from imutils import paths\n",
        "from tqdm import tqdm\n",
        "from tensorflow.keras.layers import Input, AveragePooling2D, Flatten, Dense, Dropout\n",
        "from tensorflow.keras import Model\n",
        "from sklearn.preprocessing import LabelBinarizer\n",
        "from tensorflow.keras.applications import Xception, ResNet152, InceptionV3, NASNetLarge\n",
        "from tensorflow.keras.callbacks import EarlyStopping\n",
        "%matplotlib inline\n"
      ]
    },
    {
      "cell_type": "code",
      "execution_count": null,
      "id": "5d1d0797",
      "metadata": {
        "id": "5d1d0797"
      },
      "outputs": [],
      "source": [
        "LABELS = set([\"Crown and Root Rot\", \"Healthy Wheat\", \"Leaf Rust\", \"Wheat Loose Smut\"])"
      ]
    },
    {
      "cell_type": "markdown",
      "id": "1661a665",
      "metadata": {
        "id": "1661a665"
      },
      "source": [
        "### Exploring the images and their paths"
      ]
    },
    {
      "cell_type": "code",
      "execution_count": null,
      "id": "b28124e7",
      "metadata": {
        "id": "b28124e7",
        "colab": {
          "base_uri": "https://localhost:8080/"
        },
        "outputId": "cf301bca-e6bb-409b-cc02-62a2b0787be3"
      },
      "outputs": [
        {
          "output_type": "stream",
          "name": "stdout",
          "text": [
            "/content/dataset/Crown and Root Rot/Crown and Root Rot/05531.jpg\n",
            "/content/dataset/Crown and Root Rot/Crown and Root Rot/05841.jpg\n",
            "/content/dataset/Crown and Root Rot/Crown and Root Rot/01591.jpg\n",
            "/content/dataset/Crown and Root Rot/Crown and Root Rot/00441.jpg\n",
            "/content/dataset/Crown and Root Rot/Crown and Root Rot/07661.jpg\n"
          ]
        }
      ],
      "source": [
        "count = 0\n",
        "for images in paths.list_images('/content/dataset/Crown and Root Rot/'):\n",
        "    print(images)\n",
        "    count += 1\n",
        "    if count == 5:\n",
        "        break"
      ]
    },
    {
      "cell_type": "code",
      "source": [
        "# import zipfile\n",
        "# import os\n",
        "\n",
        "# # Path where all zip files are stored\n",
        "# zip_dir = \"/content/Images\"\n",
        "\n",
        "# # Get all .zip files in that directory\n",
        "# zip_files = [f for f in os.listdir(zip_dir) if f.endswith(\".zip\")]\n",
        "\n",
        "# # Extract each zip file into the same folder\n",
        "# for zip_file in zip_files:\n",
        "#     zip_path = os.path.join(zip_dir, zip_file)\n",
        "#     with zipfile.ZipFile(zip_path, 'r') as zip_ref:\n",
        "#         zip_ref.extractall(zip_dir)  # Extracts into /content/Images/\n",
        "#         print(f\"✅ Extracted: {zip_file}\")\n"
      ],
      "metadata": {
        "id": "U2SbLSY8oSLW"
      },
      "id": "U2SbLSY8oSLW",
      "execution_count": null,
      "outputs": []
    },
    {
      "cell_type": "code",
      "execution_count": null,
      "id": "bfb5665a",
      "metadata": {
        "id": "bfb5665a"
      },
      "outputs": [],
      "source": [
        "image = cv2.imread('/content/dataset/Crown and Root Rot/Crown and Root Rot/00041.jpg')\n",
        "image = cv2.cvtColor(image, cv2.COLOR_BGR2RGB)\n",
        "image = cv2.resize(image, (224, 224))\n"
      ]
    },
    {
      "cell_type": "markdown",
      "id": "dad48839",
      "metadata": {
        "id": "dad48839"
      },
      "source": [
        "Taking a look at the paths where the images are present so that they could be read later using opencv."
      ]
    },
    {
      "cell_type": "code",
      "execution_count": null,
      "id": "0c822c02",
      "metadata": {
        "id": "0c822c02",
        "outputId": "3dba6a31-4c6a-4337-8818-0e741cf897e1",
        "colab": {
          "base_uri": "https://localhost:8080/"
        }
      },
      "outputs": [
        {
          "output_type": "stream",
          "name": "stdout",
          "text": [
            "/content/dataset/Crown and Root Rot/Crown and Root Rot/05531.jpg\n",
            "/content/dataset/Crown and Root Rot/Crown and Root Rot/05841.jpg\n",
            "/content/dataset/Crown and Root Rot/Crown and Root Rot/01591.jpg\n",
            "/content/dataset/Crown and Root Rot/Crown and Root Rot/00441.jpg\n",
            "/content/dataset/Crown and Root Rot/Crown and Root Rot/07661.jpg\n"
          ]
        }
      ],
      "source": [
        "count = 0\n",
        "for image_path in paths.list_images('/content/dataset/Crown and Root Rot/Crown and Root Rot/'):\n",
        "    print(image_path)\n",
        "    count += 1\n",
        "    if count == 5:\n",
        "        break"
      ]
    },
    {
      "cell_type": "markdown",
      "id": "cc0bc212",
      "metadata": {
        "id": "cc0bc212"
      },
      "source": [
        "We find a way to get the name of the image to be used from paths."
      ]
    },
    {
      "cell_type": "code",
      "execution_count": null,
      "id": "1decd761",
      "metadata": {
        "id": "1decd761"
      },
      "outputs": [],
      "source": [
        "sample_path = list(paths.list_images('/content/dataset/Crown and Root Rot/'))[0]\n"
      ]
    },
    {
      "cell_type": "code",
      "execution_count": null,
      "id": "0bbdb5e7",
      "metadata": {
        "id": "0bbdb5e7",
        "outputId": "696e9ed3-de62-4f60-c8cd-774154bd7b81",
        "colab": {
          "base_uri": "https://localhost:8080/",
          "height": 36
        }
      },
      "outputs": [
        {
          "output_type": "execute_result",
          "data": {
            "text/plain": [
              "'/content/dataset/Crown and Root Rot/Crown and Root Rot/05531.jpg'"
            ],
            "application/vnd.google.colaboratory.intrinsic+json": {
              "type": "string"
            }
          },
          "metadata": {},
          "execution_count": 10
        }
      ],
      "source": [
        "sample_path"
      ]
    },
    {
      "cell_type": "markdown",
      "id": "269c474e",
      "metadata": {
        "id": "269c474e"
      },
      "source": [
        "Let us now split the path to get our desired result of the image."
      ]
    },
    {
      "cell_type": "code",
      "execution_count": null,
      "id": "c749fb21",
      "metadata": {
        "id": "c749fb21",
        "outputId": "07cdeaa7-ad73-4451-bfa1-094c95908492",
        "colab": {
          "base_uri": "https://localhost:8080/"
        }
      },
      "outputs": [
        {
          "output_type": "execute_result",
          "data": {
            "text/plain": [
              "['',\n",
              " 'content',\n",
              " 'dataset',\n",
              " 'Crown and Root Rot',\n",
              " 'Crown and Root Rot',\n",
              " '05531.jpg']"
            ]
          },
          "metadata": {},
          "execution_count": 11
        }
      ],
      "source": [
        "sample_path.split('/')"
      ]
    },
    {
      "cell_type": "markdown",
      "id": "08d7cafa",
      "metadata": {
        "id": "08d7cafa"
      },
      "source": [
        "When taking a look at the directory, we see the following files as shown below."
      ]
    },
    {
      "cell_type": "code",
      "execution_count": null,
      "id": "c2417efa",
      "metadata": {
        "id": "c2417efa",
        "outputId": "5b68cc04-047b-46b7-9f66-3ab7dcda0f15",
        "colab": {
          "base_uri": "https://localhost:8080/"
        }
      },
      "outputs": [
        {
          "output_type": "execute_result",
          "data": {
            "text/plain": [
              "['.config', 'dataset', 'drive', 'sample_data']"
            ]
          },
          "metadata": {},
          "execution_count": 12
        }
      ],
      "source": [
        "os.listdir()"
      ]
    },
    {
      "cell_type": "code",
      "execution_count": null,
      "id": "8db501a8",
      "metadata": {
        "id": "8db501a8"
      },
      "outputs": [],
      "source": [
        "Labels = os.listdir('/content/dataset')\n"
      ]
    },
    {
      "cell_type": "code",
      "execution_count": null,
      "id": "10155347",
      "metadata": {
        "id": "10155347",
        "outputId": "9715129d-5792-42df-dcb3-53292fc9d134",
        "colab": {
          "base_uri": "https://localhost:8080/"
        }
      },
      "outputs": [
        {
          "output_type": "stream",
          "name": "stdout",
          "text": [
            "['Healthy Wheat', 'Leaf Rust', 'Wheat Loose Smut', 'Crown and Root Rot']\n"
          ]
        }
      ],
      "source": [
        "print(Labels)"
      ]
    },
    {
      "cell_type": "code",
      "execution_count": null,
      "id": "040a946c",
      "metadata": {
        "id": "040a946c"
      },
      "outputs": [],
      "source": [
        "CROWN_AND_ROOT_ROT_PATH = '/content/dataset/Crown and Root Rot/Crown and Root Rot/'\n",
        "HEALTHY_AND_WHEAT_PATH = '/content/dataset/Healthy Wheat/Healthy Wheat/'\n",
        "LEAF_RUST_PATH = '/content/dataset/Leaf Rust/Leaf Rust/'\n",
        "WHEAT_LOOSE_SMUT_PATH = '/content/dataset/Wheat Loose Smut/Wheat Loose Smut/'\n"
      ]
    },
    {
      "cell_type": "code",
      "execution_count": null,
      "id": "24776ba6",
      "metadata": {
        "id": "24776ba6",
        "outputId": "40c067ba-5b79-4d46-eead-ea629f36ea6d",
        "colab": {
          "base_uri": "https://localhost:8080/"
        }
      },
      "outputs": [
        {
          "output_type": "stream",
          "name": "stderr",
          "text": [
            "1021it [00:05, 186.37it/s]\n",
            "1146it [00:17, 65.63it/s]\n",
            "669it [00:38, 17.34it/s]\n",
            "930it [00:03, 289.75it/s]\n"
          ]
        }
      ],
      "source": [
        "data = []\n",
        "labels = []\n",
        "for image_path in tqdm(paths.list_images(CROWN_AND_ROOT_ROT_PATH)):\n",
        "    image = cv2.imread(image_path)\n",
        "    image = cv2.cvtColor(image, cv2.COLOR_BGR2RGB)\n",
        "    image = cv2.resize(image, (224, 224))\n",
        "    data.append(image)\n",
        "\n",
        "    label = image_path.split('/')[-2]\n",
        "\n",
        "    labels.append(label)\n",
        "\n",
        "for image_path in tqdm(paths.list_images(HEALTHY_AND_WHEAT_PATH)):\n",
        "    image = cv2.imread(image_path)\n",
        "    image = cv2.cvtColor(image, cv2.COLOR_BGR2RGB)\n",
        "    image = cv2.resize(image, (224, 224))\n",
        "    data.append(image)\n",
        "\n",
        "    label = image_path.split('/')[-2]\n",
        "\n",
        "    labels.append(label)\n",
        "\n",
        "for image_path in tqdm(paths.list_images(LEAF_RUST_PATH)):\n",
        "    image = cv2.imread(image_path)\n",
        "    image = cv2.cvtColor(image, cv2.COLOR_BGR2RGB)\n",
        "    image = cv2.resize(image, (224, 224))\n",
        "    data.append(image)\n",
        "\n",
        "    label = image_path.split('/')[-2]\n",
        "\n",
        "    labels.append(label)\n",
        "\n",
        "for image_path in tqdm(paths.list_images(WHEAT_LOOSE_SMUT_PATH)):\n",
        "    image = cv2.imread(image_path)\n",
        "    image = cv2.cvtColor(image, cv2.COLOR_BGR2RGB)\n",
        "    image = cv2.resize(image, (224, 224))\n",
        "    data.append(image)\n",
        "\n",
        "    label = image_path.split('/')[-2]\n",
        "\n",
        "    labels.append(label)\n",
        "\n"
      ]
    },
    {
      "cell_type": "code",
      "execution_count": null,
      "id": "2b812a5b",
      "metadata": {
        "id": "2b812a5b",
        "colab": {
          "base_uri": "https://localhost:8080/",
          "height": 36
        },
        "outputId": "bfc922e4-cbd7-4539-e05d-90111ed92f6b"
      },
      "outputs": [
        {
          "output_type": "execute_result",
          "data": {
            "text/plain": [
              "'Wheat Loose Smut'"
            ],
            "application/vnd.google.colaboratory.intrinsic+json": {
              "type": "string"
            }
          },
          "metadata": {},
          "execution_count": 17
        }
      ],
      "source": [
        "labels[-1]"
      ]
    },
    {
      "cell_type": "code",
      "source": [
        "print(f\"Total images in dataset: {len(data)}\")"
      ],
      "metadata": {
        "id": "YWeKXZQnV9lJ",
        "colab": {
          "base_uri": "https://localhost:8080/"
        },
        "outputId": "0e6ef082-e9bc-463d-e7e0-c843dfc09390"
      },
      "id": "YWeKXZQnV9lJ",
      "execution_count": null,
      "outputs": [
        {
          "output_type": "stream",
          "name": "stdout",
          "text": [
            "Total images in dataset: 3766\n"
          ]
        }
      ]
    },
    {
      "cell_type": "code",
      "source": [
        "def count_images(path):\n",
        "    return len(list(paths.list_images(path)))\n",
        "\n",
        "total = (\n",
        "    count_images(CROWN_AND_ROOT_ROT_PATH)\n",
        "    + count_images(HEALTHY_AND_WHEAT_PATH)\n",
        "    + count_images(LEAF_RUST_PATH)\n",
        "    + count_images(WHEAT_LOOSE_SMUT_PATH)\n",
        ")\n",
        "print(f\"Total images: {total}\")"
      ],
      "metadata": {
        "id": "Bfbb47AmWAC2",
        "colab": {
          "base_uri": "https://localhost:8080/"
        },
        "outputId": "20afa33f-3c12-43aa-97ac-f377c852a328"
      },
      "id": "Bfbb47AmWAC2",
      "execution_count": null,
      "outputs": [
        {
          "output_type": "stream",
          "name": "stdout",
          "text": [
            "Total images: 3766\n"
          ]
        }
      ]
    },
    {
      "cell_type": "markdown",
      "id": "6d1320f8",
      "metadata": {
        "id": "6d1320f8"
      },
      "source": [
        "# Transfer Learning\n",
        "\n",
        "Transfer learning is a method in deep learning where a model that is developed for a particular task is reused as the starting point for our model so that we get it for our use cases.\n",
        "\n",
        "In the below cells, transfer learning is applied which ensures that models are not trained from the start. Instead only the last few layers for our application are trained. This leads to a good reduction in the time taken to train them. Furthermore, this leads to a good improvement in the accuracy of the model as state-of-the-art models are taken for training the models."
      ]
    },
    {
      "cell_type": "markdown",
      "id": "04e00eff",
      "metadata": {
        "id": "04e00eff"
      },
      "source": [
        "## VGG19 Network\n",
        "\n",
        "VGG19 nework trained on imagenet weights is taken as our base model. In addition to this network, we add more layers so that the final model is used for our task of detecting and identifying wheat diseases."
      ]
    },
    {
      "cell_type": "code",
      "execution_count": null,
      "id": "cd528f92",
      "metadata": {
        "id": "cd528f92",
        "colab": {
          "base_uri": "https://localhost:8080/"
        },
        "outputId": "89e2ea59-de0e-41f6-b466-bc5b9629d1a2"
      },
      "outputs": [
        {
          "output_type": "stream",
          "name": "stdout",
          "text": [
            "Downloading data from https://storage.googleapis.com/tensorflow/keras-applications/vgg19/vgg19_weights_tf_dim_ordering_tf_kernels_notop.h5\n",
            "\u001b[1m80134624/80134624\u001b[0m \u001b[32m━━━━━━━━━━━━━━━━━━━━\u001b[0m\u001b[37m\u001b[0m \u001b[1m0s\u001b[0m 0us/step\n"
          ]
        }
      ],
      "source": [
        "headmodel = VGG19(weights = \"imagenet\", include_top = False,\n",
        "             input_tensor = Input(shape = (224, 224, 3)))\n",
        "model = headmodel.output\n",
        "model = AveragePooling2D(pool_size= (5, 5))(model)\n",
        "model = Flatten(name = 'flatten')(model)\n",
        "model = Dense(512, activation = 'relu')(model)\n",
        "model = Dropout(0.2)(model)\n",
        "model = Dense(4, activation = 'softmax')(model)\n",
        "\n",
        "\n",
        "final_model = Model(inputs = headmodel.input, outputs = model)\n",
        "\n",
        "for layer in headmodel.layers:\n",
        "    layer.trainable = False"
      ]
    },
    {
      "cell_type": "code",
      "execution_count": null,
      "id": "660dda78",
      "metadata": {
        "id": "660dda78"
      },
      "outputs": [],
      "source": [
        "opt = Adam(learning_rate=1e-3)\n",
        "final_model.compile(loss = \"categorical_crossentropy\", optimizer = opt,\n",
        "                   metrics = [\"accuracy\"])"
      ]
    },
    {
      "cell_type": "code",
      "execution_count": null,
      "id": "f5af392a",
      "metadata": {
        "id": "f5af392a"
      },
      "outputs": [],
      "source": [
        "data = np.array(data)\n",
        "labels = np.array(labels)\n",
        "\n",
        "lb = LabelBinarizer()\n",
        "labels = lb.fit_transform(labels)\n"
      ]
    },
    {
      "cell_type": "code",
      "execution_count": null,
      "id": "a67be207",
      "metadata": {
        "id": "a67be207",
        "colab": {
          "base_uri": "https://localhost:8080/"
        },
        "outputId": "f6adce99-5eeb-4590-adfe-1ed18dc0cd43"
      },
      "outputs": [
        {
          "output_type": "execute_result",
          "data": {
            "text/plain": [
              "array([1, 0, 0, 0])"
            ]
          },
          "metadata": {},
          "execution_count": 23
        }
      ],
      "source": [
        "labels[0]"
      ]
    },
    {
      "cell_type": "code",
      "execution_count": null,
      "id": "c4be9b48",
      "metadata": {
        "id": "c4be9b48"
      },
      "outputs": [],
      "source": [
        "X_train, X_cv, y_train, y_cv = train_test_split(data, labels, test_size = 0.2,\n",
        "                                                    stratify = labels, random_state = 101)"
      ]
    },
    {
      "cell_type": "code",
      "source": [
        "datagen = tf.keras.preprocessing.image.ImageDataGenerator(\n",
        "    rotation_range=20,\n",
        "    horizontal_flip=True,\n",
        "    zoom_range=0.15,\n",
        "    fill_mode=\"nearest\"  # Add this to fill gaps from transformations\n",
        ")\n"
      ],
      "metadata": {
        "id": "5xjKAW1tpms9"
      },
      "id": "5xjKAW1tpms9",
      "execution_count": null,
      "outputs": []
    },
    {
      "cell_type": "code",
      "source": [
        "train_generator = datagen.flow(X_train, y_train, batch_size=32,shuffle=True)"
      ],
      "metadata": {
        "id": "hO8F-IoCp1M5"
      },
      "id": "hO8F-IoCp1M5",
      "execution_count": null,
      "outputs": []
    },
    {
      "cell_type": "code",
      "execution_count": null,
      "id": "1204c7b2",
      "metadata": {
        "id": "1204c7b2",
        "colab": {
          "base_uri": "https://localhost:8080/"
        },
        "outputId": "dc5017df-9e24-4992-b19f-113193c5abf6"
      },
      "outputs": [
        {
          "output_type": "execute_result",
          "data": {
            "text/plain": [
              "3012"
            ]
          },
          "metadata": {},
          "execution_count": 27
        }
      ],
      "source": [
        "len(X_train)"
      ]
    },
    {
      "cell_type": "code",
      "execution_count": null,
      "id": "0d03d2c1",
      "metadata": {
        "id": "0d03d2c1",
        "outputId": "8fc19700-178f-4464-ce70-45034b599e52",
        "colab": {
          "base_uri": "https://localhost:8080/"
        }
      },
      "outputs": [
        {
          "output_type": "stream",
          "name": "stdout",
          "text": [
            "[name: \"/device:CPU:0\"\n",
            "device_type: \"CPU\"\n",
            "memory_limit: 268435456\n",
            "locality {\n",
            "}\n",
            "incarnation: 15874934637090532290\n",
            "xla_global_id: -1\n",
            ", name: \"/device:GPU:0\"\n",
            "device_type: \"GPU\"\n",
            "memory_limit: 14619377664\n",
            "locality {\n",
            "  bus_id: 1\n",
            "  links {\n",
            "  }\n",
            "}\n",
            "incarnation: 15558915060098002560\n",
            "physical_device_desc: \"device: 0, name: Tesla T4, pci bus id: 0000:00:04.0, compute capability: 7.5\"\n",
            "xla_global_id: 416903419\n",
            "]\n"
          ]
        }
      ],
      "source": [
        "from tensorflow.python.client import device_lib\n",
        "print(device_lib.list_local_devices())"
      ]
    },
    {
      "cell_type": "code",
      "execution_count": null,
      "id": "e495498f",
      "metadata": {
        "id": "e495498f",
        "outputId": "725d47f1-2c22-4596-8820-7c03d5c8912f",
        "colab": {
          "base_uri": "https://localhost:8080/"
        }
      },
      "outputs": [
        {
          "output_type": "stream",
          "name": "stdout",
          "text": [
            "Epoch 1/50\n",
            "\u001b[1m3012/3012\u001b[0m \u001b[32m━━━━━━━━━━━━━━━━━━━━\u001b[0m\u001b[37m\u001b[0m \u001b[1m81s\u001b[0m 22ms/step - accuracy: 0.6335 - loss: 1.6353 - val_accuracy: 0.7586 - val_loss: 0.8080 - learning_rate: 0.0010\n",
            "Epoch 2/50\n",
            "\u001b[1m3012/3012\u001b[0m \u001b[32m━━━━━━━━━━━━━━━━━━━━\u001b[0m\u001b[37m\u001b[0m \u001b[1m44s\u001b[0m 15ms/step - accuracy: 0.7789 - loss: 0.6779 - val_accuracy: 0.7560 - val_loss: 0.6988 - learning_rate: 0.0010\n",
            "Epoch 3/50\n",
            "\u001b[1m3012/3012\u001b[0m \u001b[32m━━━━━━━━━━━━━━━━━━━━\u001b[0m\u001b[37m\u001b[0m \u001b[1m82s\u001b[0m 15ms/step - accuracy: 0.8140 - loss: 0.5218 - val_accuracy: 0.8276 - val_loss: 0.5149 - learning_rate: 0.0010\n",
            "Epoch 4/50\n",
            "\u001b[1m3012/3012\u001b[0m \u001b[32m━━━━━━━━━━━━━━━━━━━━\u001b[0m\u001b[37m\u001b[0m \u001b[1m81s\u001b[0m 14ms/step - accuracy: 0.8426 - loss: 0.4318 - val_accuracy: 0.8263 - val_loss: 0.5428 - learning_rate: 0.0010\n",
            "Epoch 5/50\n",
            "\u001b[1m3012/3012\u001b[0m \u001b[32m━━━━━━━━━━━━━━━━━━━━\u001b[0m\u001b[37m\u001b[0m \u001b[1m84s\u001b[0m 15ms/step - accuracy: 0.8591 - loss: 0.3816 - val_accuracy: 0.8462 - val_loss: 0.4615 - learning_rate: 0.0010\n",
            "Epoch 6/50\n",
            "\u001b[1m3012/3012\u001b[0m \u001b[32m━━━━━━━━━━━━━━━━━━━━\u001b[0m\u001b[37m\u001b[0m \u001b[1m80s\u001b[0m 14ms/step - accuracy: 0.8800 - loss: 0.3455 - val_accuracy: 0.8594 - val_loss: 0.3966 - learning_rate: 0.0010\n",
            "Epoch 7/50\n",
            "\u001b[1m3012/3012\u001b[0m \u001b[32m━━━━━━━━━━━━━━━━━━━━\u001b[0m\u001b[37m\u001b[0m \u001b[1m43s\u001b[0m 14ms/step - accuracy: 0.8933 - loss: 0.3111 - val_accuracy: 0.8952 - val_loss: 0.3724 - learning_rate: 0.0010\n",
            "Epoch 8/50\n",
            "\u001b[1m3012/3012\u001b[0m \u001b[32m━━━━━━━━━━━━━━━━━━━━\u001b[0m\u001b[37m\u001b[0m \u001b[1m83s\u001b[0m 14ms/step - accuracy: 0.8969 - loss: 0.2864 - val_accuracy: 0.8873 - val_loss: 0.3547 - learning_rate: 0.0010\n",
            "Epoch 9/50\n",
            "\u001b[1m3012/3012\u001b[0m \u001b[32m━━━━━━━━━━━━━━━━━━━━\u001b[0m\u001b[37m\u001b[0m \u001b[1m83s\u001b[0m 15ms/step - accuracy: 0.9133 - loss: 0.2563 - val_accuracy: 0.8714 - val_loss: 0.4006 - learning_rate: 0.0010\n",
            "Epoch 10/50\n",
            "\u001b[1m3012/3012\u001b[0m \u001b[32m━━━━━━━━━━━━━━━━━━━━\u001b[0m\u001b[37m\u001b[0m \u001b[1m82s\u001b[0m 15ms/step - accuracy: 0.9166 - loss: 0.2412 - val_accuracy: 0.8700 - val_loss: 0.3761 - learning_rate: 0.0010\n",
            "Epoch 11/50\n",
            "\u001b[1m3012/3012\u001b[0m \u001b[32m━━━━━━━━━━━━━━━━━━━━\u001b[0m\u001b[37m\u001b[0m \u001b[1m43s\u001b[0m 14ms/step - accuracy: 0.9205 - loss: 0.2411 - val_accuracy: 0.8939 - val_loss: 0.3292 - learning_rate: 0.0010\n",
            "Epoch 12/50\n",
            "\u001b[1m3012/3012\u001b[0m \u001b[32m━━━━━━━━━━━━━━━━━━━━\u001b[0m\u001b[37m\u001b[0m \u001b[1m82s\u001b[0m 14ms/step - accuracy: 0.9214 - loss: 0.2255 - val_accuracy: 0.8979 - val_loss: 0.3402 - learning_rate: 0.0010\n",
            "Epoch 13/50\n",
            "\u001b[1m3012/3012\u001b[0m \u001b[32m━━━━━━━━━━━━━━━━━━━━\u001b[0m\u001b[37m\u001b[0m \u001b[1m82s\u001b[0m 14ms/step - accuracy: 0.9236 - loss: 0.2265 - val_accuracy: 0.8846 - val_loss: 0.3851 - learning_rate: 0.0010\n",
            "Epoch 14/50\n",
            "\u001b[1m3012/3012\u001b[0m \u001b[32m━━━━━━━━━━━━━━━━━━━━\u001b[0m\u001b[37m\u001b[0m \u001b[1m45s\u001b[0m 15ms/step - accuracy: 0.9263 - loss: 0.2197 - val_accuracy: 0.9085 - val_loss: 0.2792 - learning_rate: 0.0010\n",
            "Epoch 15/50\n",
            "\u001b[1m3012/3012\u001b[0m \u001b[32m━━━━━━━━━━━━━━━━━━━━\u001b[0m\u001b[37m\u001b[0m \u001b[1m44s\u001b[0m 14ms/step - accuracy: 0.9361 - loss: 0.1887 - val_accuracy: 0.9045 - val_loss: 0.3253 - learning_rate: 0.0010\n",
            "Epoch 16/50\n",
            "\u001b[1m3012/3012\u001b[0m \u001b[32m━━━━━━━━━━━━━━━━━━━━\u001b[0m\u001b[37m\u001b[0m \u001b[1m82s\u001b[0m 14ms/step - accuracy: 0.9348 - loss: 0.1861 - val_accuracy: 0.9032 - val_loss: 0.3243 - learning_rate: 0.0010\n",
            "Epoch 17/50\n",
            "\u001b[1m3012/3012\u001b[0m \u001b[32m━━━━━━━━━━━━━━━━━━━━\u001b[0m\u001b[37m\u001b[0m \u001b[1m83s\u001b[0m 15ms/step - accuracy: 0.9380 - loss: 0.1706 - val_accuracy: 0.9218 - val_loss: 0.2709 - learning_rate: 0.0010\n",
            "Epoch 18/50\n",
            "\u001b[1m3012/3012\u001b[0m \u001b[32m━━━━━━━━━━━━━━━━━━━━\u001b[0m\u001b[37m\u001b[0m \u001b[1m43s\u001b[0m 14ms/step - accuracy: 0.9341 - loss: 0.1972 - val_accuracy: 0.9218 - val_loss: 0.2622 - learning_rate: 0.0010\n",
            "Epoch 19/50\n",
            "\u001b[1m3012/3012\u001b[0m \u001b[32m━━━━━━━━━━━━━━━━━━━━\u001b[0m\u001b[37m\u001b[0m \u001b[1m43s\u001b[0m 14ms/step - accuracy: 0.9468 - loss: 0.1604 - val_accuracy: 0.9098 - val_loss: 0.3217 - learning_rate: 0.0010\n",
            "Epoch 20/50\n",
            "\u001b[1m3012/3012\u001b[0m \u001b[32m━━━━━━━━━━━━━━━━━━━━\u001b[0m\u001b[37m\u001b[0m \u001b[1m44s\u001b[0m 14ms/step - accuracy: 0.9350 - loss: 0.2056 - val_accuracy: 0.9111 - val_loss: 0.2875 - learning_rate: 0.0010\n",
            "Epoch 21/50\n",
            "\u001b[1m3012/3012\u001b[0m \u001b[32m━━━━━━━━━━━━━━━━━━━━\u001b[0m\u001b[37m\u001b[0m \u001b[1m82s\u001b[0m 15ms/step - accuracy: 0.9535 - loss: 0.1452 - val_accuracy: 0.9231 - val_loss: 0.3036 - learning_rate: 0.0010\n",
            "Epoch 22/50\n",
            "\u001b[1m3012/3012\u001b[0m \u001b[32m━━━━━━━━━━━━━━━━━━━━\u001b[0m\u001b[37m\u001b[0m \u001b[1m81s\u001b[0m 14ms/step - accuracy: 0.9477 - loss: 0.1532 - val_accuracy: 0.9271 - val_loss: 0.2498 - learning_rate: 0.0010\n",
            "Epoch 23/50\n",
            "\u001b[1m3012/3012\u001b[0m \u001b[32m━━━━━━━━━━━━━━━━━━━━\u001b[0m\u001b[37m\u001b[0m \u001b[1m44s\u001b[0m 14ms/step - accuracy: 0.9526 - loss: 0.1543 - val_accuracy: 0.9337 - val_loss: 0.2614 - learning_rate: 0.0010\n",
            "Epoch 24/50\n",
            "\u001b[1m3012/3012\u001b[0m \u001b[32m━━━━━━━━━━━━━━━━━━━━\u001b[0m\u001b[37m\u001b[0m \u001b[1m45s\u001b[0m 15ms/step - accuracy: 0.9531 - loss: 0.1403 - val_accuracy: 0.9257 - val_loss: 0.2503 - learning_rate: 0.0010\n",
            "Epoch 25/50\n",
            "\u001b[1m3012/3012\u001b[0m \u001b[32m━━━━━━━━━━━━━━━━━━━━\u001b[0m\u001b[37m\u001b[0m \u001b[1m80s\u001b[0m 14ms/step - accuracy: 0.9538 - loss: 0.1301 - val_accuracy: 0.9337 - val_loss: 0.2567 - learning_rate: 0.0010\n",
            "Epoch 26/50\n",
            "\u001b[1m3012/3012\u001b[0m \u001b[32m━━━━━━━━━━━━━━━━━━━━\u001b[0m\u001b[37m\u001b[0m \u001b[1m45s\u001b[0m 15ms/step - accuracy: 0.9554 - loss: 0.1420 - val_accuracy: 0.9324 - val_loss: 0.2461 - learning_rate: 0.0010\n",
            "Epoch 27/50\n",
            "\u001b[1m3012/3012\u001b[0m \u001b[32m━━━━━━━━━━━━━━━━━━━━\u001b[0m\u001b[37m\u001b[0m \u001b[1m81s\u001b[0m 14ms/step - accuracy: 0.9585 - loss: 0.1238 - val_accuracy: 0.9271 - val_loss: 0.2712 - learning_rate: 0.0010\n",
            "Epoch 28/50\n",
            "\u001b[1m3012/3012\u001b[0m \u001b[32m━━━━━━━━━━━━━━━━━━━━\u001b[0m\u001b[37m\u001b[0m \u001b[1m44s\u001b[0m 14ms/step - accuracy: 0.9577 - loss: 0.1158 - val_accuracy: 0.9284 - val_loss: 0.2416 - learning_rate: 0.0010\n",
            "Epoch 29/50\n",
            "\u001b[1m3012/3012\u001b[0m \u001b[32m━━━━━━━━━━━━━━━━━━━━\u001b[0m\u001b[37m\u001b[0m \u001b[1m81s\u001b[0m 14ms/step - accuracy: 0.9589 - loss: 0.1171 - val_accuracy: 0.9244 - val_loss: 0.2625 - learning_rate: 0.0010\n",
            "Epoch 30/50\n",
            "\u001b[1m3012/3012\u001b[0m \u001b[32m━━━━━━━━━━━━━━━━━━━━\u001b[0m\u001b[37m\u001b[0m \u001b[1m83s\u001b[0m 14ms/step - accuracy: 0.9619 - loss: 0.1278 - val_accuracy: 0.9310 - val_loss: 0.2263 - learning_rate: 0.0010\n",
            "Epoch 31/50\n",
            "\u001b[1m3012/3012\u001b[0m \u001b[32m━━━━━━━━━━━━━━━━━━━━\u001b[0m\u001b[37m\u001b[0m \u001b[1m81s\u001b[0m 14ms/step - accuracy: 0.9571 - loss: 0.1205 - val_accuracy: 0.9111 - val_loss: 0.3387 - learning_rate: 0.0010\n",
            "Epoch 32/50\n",
            "\u001b[1m3012/3012\u001b[0m \u001b[32m━━━━━━━━━━━━━━━━━━━━\u001b[0m\u001b[37m\u001b[0m \u001b[1m43s\u001b[0m 14ms/step - accuracy: 0.9525 - loss: 0.1476 - val_accuracy: 0.9297 - val_loss: 0.2550 - learning_rate: 0.0010\n",
            "Epoch 33/50\n",
            "\u001b[1m3012/3012\u001b[0m \u001b[32m━━━━━━━━━━━━━━━━━━━━\u001b[0m\u001b[37m\u001b[0m \u001b[1m82s\u001b[0m 14ms/step - accuracy: 0.9653 - loss: 0.1081 - val_accuracy: 0.9403 - val_loss: 0.2080 - learning_rate: 0.0010\n",
            "Epoch 34/50\n",
            "\u001b[1m3012/3012\u001b[0m \u001b[32m━━━━━━━━━━━━━━━━━━━━\u001b[0m\u001b[37m\u001b[0m \u001b[1m43s\u001b[0m 14ms/step - accuracy: 0.9590 - loss: 0.1307 - val_accuracy: 0.9483 - val_loss: 0.2106 - learning_rate: 0.0010\n",
            "Epoch 35/50\n",
            "\u001b[1m3012/3012\u001b[0m \u001b[32m━━━━━━━━━━━━━━━━━━━━\u001b[0m\u001b[37m\u001b[0m \u001b[1m82s\u001b[0m 14ms/step - accuracy: 0.9643 - loss: 0.1057 - val_accuracy: 0.9337 - val_loss: 0.2735 - learning_rate: 0.0010\n",
            "Epoch 36/50\n",
            "\u001b[1m3012/3012\u001b[0m \u001b[32m━━━━━━━━━━━━━━━━━━━━\u001b[0m\u001b[37m\u001b[0m \u001b[1m82s\u001b[0m 14ms/step - accuracy: 0.9635 - loss: 0.1186 - val_accuracy: 0.9390 - val_loss: 0.2880 - learning_rate: 0.0010\n",
            "Epoch 37/50\n",
            "\u001b[1m3012/3012\u001b[0m \u001b[32m━━━━━━━━━━━━━━━━━━━━\u001b[0m\u001b[37m\u001b[0m \u001b[1m81s\u001b[0m 14ms/step - accuracy: 0.9627 - loss: 0.1109 - val_accuracy: 0.9403 - val_loss: 0.2665 - learning_rate: 0.0010\n",
            "Epoch 38/50\n",
            "\u001b[1m3012/3012\u001b[0m \u001b[32m━━━━━━━━━━━━━━━━━━━━\u001b[0m\u001b[37m\u001b[0m \u001b[1m42s\u001b[0m 14ms/step - accuracy: 0.9605 - loss: 0.1326 - val_accuracy: 0.9483 - val_loss: 0.2148 - learning_rate: 0.0010\n",
            "Epoch 39/50\n",
            "\u001b[1m3012/3012\u001b[0m \u001b[32m━━━━━━━━━━━━━━━━━━━━\u001b[0m\u001b[37m\u001b[0m \u001b[1m43s\u001b[0m 14ms/step - accuracy: 0.9578 - loss: 0.1295 - val_accuracy: 0.9496 - val_loss: 0.2294 - learning_rate: 0.0010\n",
            "Epoch 40/50\n",
            "\u001b[1m3012/3012\u001b[0m \u001b[32m━━━━━━━━━━━━━━━━━━━━\u001b[0m\u001b[37m\u001b[0m \u001b[1m43s\u001b[0m 14ms/step - accuracy: 0.9626 - loss: 0.1099 - val_accuracy: 0.9377 - val_loss: 0.2572 - learning_rate: 0.0010\n",
            "Epoch 41/50\n",
            "\u001b[1m3012/3012\u001b[0m \u001b[32m━━━━━━━━━━━━━━━━━━━━\u001b[0m\u001b[37m\u001b[0m \u001b[1m43s\u001b[0m 14ms/step - accuracy: 0.9631 - loss: 0.1111 - val_accuracy: 0.9337 - val_loss: 0.2700 - learning_rate: 0.0010\n",
            "Epoch 42/50\n",
            "\u001b[1m3012/3012\u001b[0m \u001b[32m━━━━━━━━━━━━━━━━━━━━\u001b[0m\u001b[37m\u001b[0m \u001b[1m84s\u001b[0m 15ms/step - accuracy: 0.9703 - loss: 0.0884 - val_accuracy: 0.9523 - val_loss: 0.2078 - learning_rate: 2.0000e-04\n",
            "Epoch 43/50\n",
            "\u001b[1m3012/3012\u001b[0m \u001b[32m━━━━━━━━━━━━━━━━━━━━\u001b[0m\u001b[37m\u001b[0m \u001b[1m44s\u001b[0m 14ms/step - accuracy: 0.9762 - loss: 0.0776 - val_accuracy: 0.9589 - val_loss: 0.1747 - learning_rate: 2.0000e-04\n",
            "Epoch 44/50\n",
            "\u001b[1m3012/3012\u001b[0m \u001b[32m━━━━━━━━━━━━━━━━━━━━\u001b[0m\u001b[37m\u001b[0m \u001b[1m44s\u001b[0m 14ms/step - accuracy: 0.9813 - loss: 0.0604 - val_accuracy: 0.9562 - val_loss: 0.1824 - learning_rate: 2.0000e-04\n",
            "Epoch 45/50\n",
            "\u001b[1m3012/3012\u001b[0m \u001b[32m━━━━━━━━━━━━━━━━━━━━\u001b[0m\u001b[37m\u001b[0m \u001b[1m43s\u001b[0m 14ms/step - accuracy: 0.9814 - loss: 0.0502 - val_accuracy: 0.9549 - val_loss: 0.1884 - learning_rate: 2.0000e-04\n",
            "Epoch 46/50\n",
            "\u001b[1m3012/3012\u001b[0m \u001b[32m━━━━━━━━━━━━━━━━━━━━\u001b[0m\u001b[37m\u001b[0m \u001b[1m81s\u001b[0m 14ms/step - accuracy: 0.9833 - loss: 0.0548 - val_accuracy: 0.9483 - val_loss: 0.1978 - learning_rate: 2.0000e-04\n",
            "Epoch 47/50\n",
            "\u001b[1m3012/3012\u001b[0m \u001b[32m━━━━━━━━━━━━━━━━━━━━\u001b[0m\u001b[37m\u001b[0m \u001b[1m43s\u001b[0m 14ms/step - accuracy: 0.9841 - loss: 0.0543 - val_accuracy: 0.9523 - val_loss: 0.2069 - learning_rate: 2.0000e-04\n",
            "Epoch 48/50\n",
            "\u001b[1m3012/3012\u001b[0m \u001b[32m━━━━━━━━━━━━━━━━━━━━\u001b[0m\u001b[37m\u001b[0m \u001b[1m82s\u001b[0m 14ms/step - accuracy: 0.9795 - loss: 0.0549 - val_accuracy: 0.9483 - val_loss: 0.2112 - learning_rate: 2.0000e-04\n",
            "Epoch 49/50\n",
            "\u001b[1m3012/3012\u001b[0m \u001b[32m━━━━━━━━━━━━━━━━━━━━\u001b[0m\u001b[37m\u001b[0m \u001b[1m83s\u001b[0m 14ms/step - accuracy: 0.9854 - loss: 0.0456 - val_accuracy: 0.9523 - val_loss: 0.2060 - learning_rate: 2.0000e-04\n",
            "Epoch 50/50\n",
            "\u001b[1m3012/3012\u001b[0m \u001b[32m━━━━━━━━━━━━━━━━━━━━\u001b[0m\u001b[37m\u001b[0m \u001b[1m43s\u001b[0m 14ms/step - accuracy: 0.9865 - loss: 0.0454 - val_accuracy: 0.9509 - val_loss: 0.2120 - learning_rate: 2.0000e-04\n"
          ]
        }
      ],
      "source": [
        "early_stop = EarlyStopping(monitor=\"val_loss\", patience=12, restore_best_weights=True)\n",
        "reduce_lr = tf.keras.callbacks.ReduceLROnPlateau(\n",
        "    monitor=\"val_loss\", factor=0.2, patience=8\n",
        ")\n",
        "fitted_model = final_model.fit(\n",
        "                         train_generator,\n",
        "                         steps_per_epoch=len(X_train),\n",
        "                         validation_data = (X_cv, y_cv),\n",
        "                         epochs = 50,\n",
        "                         callbacks=[early_stop, reduce_lr])"
      ]
    },
    {
      "cell_type": "code",
      "execution_count": null,
      "id": "0f918f33",
      "metadata": {
        "id": "0f918f33",
        "colab": {
          "base_uri": "https://localhost:8080/",
          "height": 962
        },
        "outputId": "e697a456-a20a-41f9-fa5a-cc6de44237d1"
      },
      "outputs": [
        {
          "output_type": "stream",
          "name": "stdout",
          "text": [
            "\u001b[1m12/12\u001b[0m \u001b[32m━━━━━━━━━━━━━━━━━━━━\u001b[0m\u001b[37m\u001b[0m \u001b[1m38s\u001b[0m 2s/step\n"
          ]
        },
        {
          "output_type": "display_data",
          "data": {
            "text/plain": [
              "<Figure size 640x480 with 1 Axes>"
            ],
            "image/png": "[encoded data removed]"
          },
          "metadata": {}
        },
        {
          "output_type": "display_data",
          "data": {
            "text/plain": [
              "<Figure size 640x480 with 1 Axes>"
            ],
            "image/png": "[encoded data removed]"
          },
          "metadata": {}
        },
        {
          "output_type": "display_data",
          "data": {
            "text/plain": [
              "<Figure size 640x480 with 0 Axes>"
            ]
          },
          "metadata": {}
        }
      ],
      "source": [
        "predictions = final_model.predict(X_cv, batch_size = 64)\n",
        "N = len(fitted_model.history['accuracy'])\n",
        "plt.plot(np.arange(0, N), fitted_model.history['accuracy'], label = 'Training Accuracy')\n",
        "plt.plot(np.arange(0, N), fitted_model.history['val_accuracy'], label = \"Test Accuracy\")\n",
        "plt.title('VGG19 Model Train Vs Test Accuracy')\n",
        "plt.ylabel('Accuracy')\n",
        "plt.xlabel('Epoch')\n",
        "plt.legend(loc = 'lower right')\n",
        "plt.show()\n",
        "plt.savefig(r\"C:\\Users\\akash\\Desktop\\VG19\\VGG19_accuracy_plots1.png\")\n",
        "\n",
        "plt.plot(fitted_model.history['loss'], label = \"Training Loss\")\n",
        "plt.plot(fitted_model.history['val_loss'], label = \"Test Loss\")\n",
        "plt.title(\"VGG19 Model Train Vs Test Loss\")\n",
        "plt.ylabel('Loss')\n",
        "plt.xlabel('Epoch')\n",
        "plt.legend(loc = 'upper right')\n",
        "plt.show()\n",
        "plt.savefig(r\"C:\\Users\\akash\\Desktop\\VG19\\VGG19_loss_plot1.png\")\n"
      ]
    },
    {
      "cell_type": "code",
      "source": [
        "from sklearn.metrics import classification_report, accuracy_score\n",
        "import numpy as np\n",
        "\n",
        "# Predict on the validation set\n",
        "y_pred_probs = final_model.predict(X_cv)\n",
        "y_pred = np.argmax(y_pred_probs, axis=1)\n",
        "y_true = np.argmax(y_cv, axis=1)\n",
        "\n",
        "# Classification Report\n",
        "report = classification_report(y_true, y_pred, target_names=lb.classes_)\n",
        "print(\"🔍 Classification Report:\\n\")\n",
        "print(report)\n",
        "\n",
        "# Accuracy (just as a separate metric, though it's also in the report)\n",
        "acc = accuracy_score(y_true, y_pred)\n",
        "print(f\"✅ Validation Accuracy: {acc * 100:.2f}%\")\n"
      ],
      "metadata": {
        "colab": {
          "base_uri": "https://localhost:8080/"
        },
        "id": "0uV9_5yFgOrU",
        "outputId": "16ca7365-0b33-4179-fe0b-fe46a412da2b"
      },
      "id": "0uV9_5yFgOrU",
      "execution_count": null,
      "outputs": [
        {
          "output_type": "stream",
          "name": "stdout",
          "text": [
            "\u001b[1m24/24\u001b[0m \u001b[32m━━━━━━━━━━━━━━━━━━━━\u001b[0m\u001b[37m\u001b[0m \u001b[1m5s\u001b[0m 198ms/step\n",
            "🔍 Classification Report:\n",
            "\n",
            "                    precision    recall  f1-score   support\n",
            "\n",
            "Crown and Root Rot       0.97      0.97      0.97       204\n",
            "     Healthy Wheat       0.96      0.99      0.97       230\n",
            "         Leaf Rust       0.99      0.87      0.93       134\n",
            "  Wheat Loose Smut       0.93      0.98      0.96       186\n",
            "\n",
            "          accuracy                           0.96       754\n",
            "         macro avg       0.96      0.95      0.96       754\n",
            "      weighted avg       0.96      0.96      0.96       754\n",
            "\n",
            "✅ Validation Accuracy: 95.89%\n"
          ]
        }
      ]
    },
    {
      "cell_type": "code",
      "source": [
        "# Confusion Matrix\n",
        "from sklearn.metrics import confusion_matrix, roc_curve, auc\n",
        "import seaborn as sns\n",
        "import matplotlib.pyplot as plt\n",
        "\n",
        "y_true_labels = np.argmax(y_cv, axis=1)\n",
        "y_pred_labels = np.argmax(predictions, axis=1)\n",
        "\n",
        "# Confusion Matrix\n",
        "cm = confusion_matrix(y_true_labels, y_pred_labels)\n",
        "plt.figure(figsize=(8, 6))\n",
        "sns.heatmap(cm, annot=True, fmt=\"d\", cmap=\"Blues\", xticklabels=label_encoder.classes_, yticklabels=label_encoder.classes_)\n",
        "plt.xlabel(\"Predicted\")\n",
        "plt.ylabel(\"True\")\n",
        "plt.title(\"Confusion Matrix\")\n",
        "plt.show()\n",
        "\n"
      ],
      "metadata": {
        "colab": {
          "base_uri": "https://localhost:8080/",
          "height": 211
        },
        "id": "AY1hnEmkOs-2",
        "outputId": "ce1641db-5296-4ecf-aa31-c7def592d7e6"
      },
      "id": "AY1hnEmkOs-2",
      "execution_count": 2,
      "outputs": [
        {
          "output_type": "error",
          "ename": "NameError",
          "evalue": "name 'np' is not defined",
          "traceback": [
            "\u001b[0;31m---------------------------------------------------------------------------\u001b[0m",
            "\u001b[0;31mNameError\u001b[0m                                 Traceback (most recent call last)",
            "\u001b[0;32m<ipython-input-2-3e18051857c6>\u001b[0m in \u001b[0;36m<cell line: 0>\u001b[0;34m()\u001b[0m\n\u001b[1;32m      4\u001b[0m \u001b[0;32mimport\u001b[0m \u001b[0mmatplotlib\u001b[0m\u001b[0;34m.\u001b[0m\u001b[0mpyplot\u001b[0m \u001b[0;32mas\u001b[0m \u001b[0mplt\u001b[0m\u001b[0;34m\u001b[0m\u001b[0;34m\u001b[0m\u001b[0m\n\u001b[1;32m      5\u001b[0m \u001b[0;34m\u001b[0m\u001b[0m\n\u001b[0;32m----> 6\u001b[0;31m \u001b[0my_true_labels\u001b[0m \u001b[0;34m=\u001b[0m \u001b[0mnp\u001b[0m\u001b[0;34m.\u001b[0m\u001b[0margmax\u001b[0m\u001b[0;34m(\u001b[0m\u001b[0my_cv\u001b[0m\u001b[0;34m,\u001b[0m \u001b[0maxis\u001b[0m\u001b[0;34m=\u001b[0m\u001b[0;36m1\u001b[0m\u001b[0;34m)\u001b[0m\u001b[0;34m\u001b[0m\u001b[0;34m\u001b[0m\u001b[0m\n\u001b[0m\u001b[1;32m      7\u001b[0m \u001b[0my_pred_labels\u001b[0m \u001b[0;34m=\u001b[0m \u001b[0mnp\u001b[0m\u001b[0;34m.\u001b[0m\u001b[0margmax\u001b[0m\u001b[0;34m(\u001b[0m\u001b[0mpredictions\u001b[0m\u001b[0;34m,\u001b[0m \u001b[0maxis\u001b[0m\u001b[0;34m=\u001b[0m\u001b[0;36m1\u001b[0m\u001b[0;34m)\u001b[0m\u001b[0;34m\u001b[0m\u001b[0;34m\u001b[0m\u001b[0m\n\u001b[1;32m      8\u001b[0m \u001b[0;34m\u001b[0m\u001b[0m\n",
            "\u001b[0;31mNameError\u001b[0m: name 'np' is not defined"
          ]
        }
      ]
    },
    {
      "cell_type": "code",
      "source": [
        "# ROC Curve (One-vs-Rest for multi-class)\n",
        "from sklearn.preprocessing import label_binarize\n",
        "n_classes = y_cv.shape[1]\n",
        "y_test_bin = y_cv\n",
        "fpr = dict()\n",
        "tpr = dict()\n",
        "roc_auc = dict()\n",
        "\n",
        "for i in range(n_classes):\n",
        "    fpr[i], tpr[i], _ = roc_curve(y_test_bin[:, i], predictions[:, i])\n",
        "    roc_auc[i] = auc(fpr[i], tpr[i])"
      ],
      "metadata": {
        "id": "Pznx8Lq0O_MN"
      },
      "id": "Pznx8Lq0O_MN",
      "execution_count": null,
      "outputs": []
    },
    {
      "cell_type": "code",
      "source": [
        "# Plot all ROC curves\n",
        "plt.figure(figsize=(8, 6))\n",
        "for i in range(n_classes):\n",
        "    plt.plot(fpr[i], tpr[i], label=f\"Class {label_encoder.classes_[i]} (AUC = {roc_auc[i]:.2f})\")\n",
        "\n",
        "plt.plot([0, 1], [0, 1], \"k--\")\n",
        "plt.xlabel(\"False Positive Rate\")\n",
        "plt.ylabel(\"True Positive Rate\")\n",
        "plt.title(\"ROC Curve for Each Class\")\n",
        "plt.legend(loc=\"lower right\")\n",
        "plt.show()"
      ],
      "metadata": {
        "id": "QjgY4DSpPCgw"
      },
      "id": "QjgY4DSpPCgw",
      "execution_count": null,
      "outputs": []
    },
    {
      "cell_type": "code",
      "source": [
        "final_model.save(r\"C:\\Users\\akash\\Desktop\\VG19\\vgg19_wheat_disease_model1.h5\")\n"
      ],
      "metadata": {
        "id": "7VHjNq0LkR6T",
        "colab": {
          "base_uri": "https://localhost:8080/"
        },
        "outputId": "06b68c12-8fea-43ab-9c85-f4cac94b6b93"
      },
      "id": "7VHjNq0LkR6T",
      "execution_count": null,
      "outputs": [
        {
          "output_type": "stream",
          "name": "stderr",
          "text": [
            "WARNING:absl:You are saving your model as an HDF5 file via `model.save()` or `keras.saving.save_model(model)`. This file format is considered legacy. We recommend using instead the native Keras format, e.g. `model.save('my_model.keras')` or `keras.saving.save_model(model, 'my_model.keras')`. \n"
          ]
        }
      ]
    }
  ],
  "metadata": {
    "kernelspec": {
      "display_name": "Python 3",
      "name": "python3"
    },
    "language_info": {
      "codemirror_mode": {
        "name": "ipython",
        "version": 3
      },
      "file_extension": ".py",
      "mimetype": "text/x-python",
      "name": "python",
      "nbconvert_exporter": "python",
      "pygments_lexer": "ipython3",
      "version": "3.8.12"
    },
    "colab": {
      "provenance": [],
      "gpuType": "T4"
    },
    "accelerator": "GPU"
  },
  "nbformat": 4,
  "nbformat_minor": 5
}